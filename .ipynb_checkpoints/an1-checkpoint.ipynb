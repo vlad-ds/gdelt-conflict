{
 "cells": [
  {
   "cell_type": "markdown",
   "metadata": {},
   "source": [
    "# GDELT Conflict Data "
   ]
  },
  {
   "cell_type": "markdown",
   "metadata": {},
   "source": [
    "### Preliminary analysis"
   ]
  },
  {
   "cell_type": "code",
   "execution_count": 1,
   "metadata": {},
   "outputs": [],
   "source": [
    "import numpy as np\n",
    "import pandas as pd\n",
    "import matplotlib.pyplot as plt"
   ]
  },
  {
   "cell_type": "code",
   "execution_count": 2,
   "metadata": {},
   "outputs": [],
   "source": [
    "df = pd.read_csv('data/prepped.csv')"
   ]
  },
  {
   "cell_type": "code",
   "execution_count": 3,
   "metadata": {},
   "outputs": [
    {
     "name": "stdout",
     "output_type": "stream",
     "text": [
      "<class 'pandas.core.frame.DataFrame'>\n",
      "RangeIndex: 168370 entries, 0 to 168369\n",
      "Data columns (total 14 columns):\n",
      " #   Column                Non-Null Count   Dtype  \n",
      "---  ------                --------------   -----  \n",
      " 0   Year                  168370 non-null  int64  \n",
      " 1   CountryCode           168370 non-null  object \n",
      " 2   CountryName           168370 non-null  object \n",
      " 3   SumEvents             168370 non-null  int64  \n",
      " 4   TotalEvents           168370 non-null  int64  \n",
      " 5   NormalizedEvents1000  168370 non-null  float64\n",
      " 6   EventRootCode         168370 non-null  int64  \n",
      " 7   EventRootDescr        168370 non-null  object \n",
      " 8   EventCode             168370 non-null  int64  \n",
      " 9   EventDescr            168370 non-null  object \n",
      " 10  GoldsteinScale        168370 non-null  float64\n",
      " 11  AvgNumMentions        168370 non-null  float64\n",
      " 12  SumNumMentions        168370 non-null  int64  \n",
      " 13  AvgAvgTone            168370 non-null  float64\n",
      "dtypes: float64(4), int64(6), object(4)\n",
      "memory usage: 18.0+ MB\n"
     ]
    }
   ],
   "source": [
    "df.info()"
   ]
  },
  {
   "cell_type": "code",
   "execution_count": 4,
   "metadata": {},
   "outputs": [
    {
     "data": {
      "text/html": [
       "<div>\n",
       "<style scoped>\n",
       "    .dataframe tbody tr th:only-of-type {\n",
       "        vertical-align: middle;\n",
       "    }\n",
       "\n",
       "    .dataframe tbody tr th {\n",
       "        vertical-align: top;\n",
       "    }\n",
       "\n",
       "    .dataframe thead th {\n",
       "        text-align: right;\n",
       "    }\n",
       "</style>\n",
       "<table border=\"1\" class=\"dataframe\">\n",
       "  <thead>\n",
       "    <tr style=\"text-align: right;\">\n",
       "      <th></th>\n",
       "      <th>Year</th>\n",
       "      <th>CountryCode</th>\n",
       "      <th>CountryName</th>\n",
       "      <th>SumEvents</th>\n",
       "      <th>TotalEvents</th>\n",
       "      <th>NormalizedEvents1000</th>\n",
       "      <th>EventRootCode</th>\n",
       "      <th>EventRootDescr</th>\n",
       "      <th>EventCode</th>\n",
       "      <th>EventDescr</th>\n",
       "      <th>GoldsteinScale</th>\n",
       "      <th>AvgNumMentions</th>\n",
       "      <th>SumNumMentions</th>\n",
       "      <th>AvgAvgTone</th>\n",
       "    </tr>\n",
       "  </thead>\n",
       "  <tbody>\n",
       "    <tr>\n",
       "      <th>0</th>\n",
       "      <td>1979</td>\n",
       "      <td>AR</td>\n",
       "      <td>Argentina</td>\n",
       "      <td>57</td>\n",
       "      <td>948</td>\n",
       "      <td>60.126582</td>\n",
       "      <td>17</td>\n",
       "      <td>COERCE</td>\n",
       "      <td>173</td>\n",
       "      <td>Arrest, detain, or charge with legal action</td>\n",
       "      <td>-5.0</td>\n",
       "      <td>3.754386</td>\n",
       "      <td>214</td>\n",
       "      <td>4.962598</td>\n",
       "    </tr>\n",
       "    <tr>\n",
       "      <th>1</th>\n",
       "      <td>1979</td>\n",
       "      <td>SA</td>\n",
       "      <td>Saudi Arabia</td>\n",
       "      <td>7</td>\n",
       "      <td>2691</td>\n",
       "      <td>2.601263</td>\n",
       "      <td>18</td>\n",
       "      <td>ASSAULT</td>\n",
       "      <td>186</td>\n",
       "      <td>Assassinate</td>\n",
       "      <td>-10.0</td>\n",
       "      <td>2.571429</td>\n",
       "      <td>18</td>\n",
       "      <td>3.581601</td>\n",
       "    </tr>\n",
       "    <tr>\n",
       "      <th>2</th>\n",
       "      <td>1979</td>\n",
       "      <td>ET</td>\n",
       "      <td>Ethiopia</td>\n",
       "      <td>3</td>\n",
       "      <td>1374</td>\n",
       "      <td>2.183406</td>\n",
       "      <td>18</td>\n",
       "      <td>ASSAULT</td>\n",
       "      <td>183</td>\n",
       "      <td>Conduct suicide, car, or other non-military bo...</td>\n",
       "      <td>-10.0</td>\n",
       "      <td>4.333333</td>\n",
       "      <td>13</td>\n",
       "      <td>3.660743</td>\n",
       "    </tr>\n",
       "    <tr>\n",
       "      <th>3</th>\n",
       "      <td>1979</td>\n",
       "      <td>RQ</td>\n",
       "      <td>Puerto Rico</td>\n",
       "      <td>4</td>\n",
       "      <td>170</td>\n",
       "      <td>23.529412</td>\n",
       "      <td>19</td>\n",
       "      <td>FIGHT</td>\n",
       "      <td>190</td>\n",
       "      <td>Use conventional military force, not specified...</td>\n",
       "      <td>-10.0</td>\n",
       "      <td>4.750000</td>\n",
       "      <td>19</td>\n",
       "      <td>3.061159</td>\n",
       "    </tr>\n",
       "    <tr>\n",
       "      <th>4</th>\n",
       "      <td>1979</td>\n",
       "      <td>ID</td>\n",
       "      <td>Indonesia</td>\n",
       "      <td>26</td>\n",
       "      <td>1793</td>\n",
       "      <td>14.500837</td>\n",
       "      <td>19</td>\n",
       "      <td>FIGHT</td>\n",
       "      <td>190</td>\n",
       "      <td>Use conventional military force, not specified...</td>\n",
       "      <td>-10.0</td>\n",
       "      <td>3.961538</td>\n",
       "      <td>103</td>\n",
       "      <td>3.262348</td>\n",
       "    </tr>\n",
       "  </tbody>\n",
       "</table>\n",
       "</div>"
      ],
      "text/plain": [
       "   Year CountryCode   CountryName  SumEvents  TotalEvents  \\\n",
       "0  1979          AR     Argentina         57          948   \n",
       "1  1979          SA  Saudi Arabia          7         2691   \n",
       "2  1979          ET      Ethiopia          3         1374   \n",
       "3  1979          RQ   Puerto Rico          4          170   \n",
       "4  1979          ID     Indonesia         26         1793   \n",
       "\n",
       "   NormalizedEvents1000  EventRootCode EventRootDescr  EventCode  \\\n",
       "0             60.126582             17         COERCE        173   \n",
       "1              2.601263             18        ASSAULT        186   \n",
       "2              2.183406             18        ASSAULT        183   \n",
       "3             23.529412             19          FIGHT        190   \n",
       "4             14.500837             19          FIGHT        190   \n",
       "\n",
       "                                          EventDescr  GoldsteinScale  \\\n",
       "0       Arrest, detain, or charge with legal action             -5.0   \n",
       "1                                       Assassinate            -10.0   \n",
       "2  Conduct suicide, car, or other non-military bo...           -10.0   \n",
       "3  Use conventional military force, not specified...           -10.0   \n",
       "4  Use conventional military force, not specified...           -10.0   \n",
       "\n",
       "   AvgNumMentions  SumNumMentions  AvgAvgTone  \n",
       "0        3.754386             214    4.962598  \n",
       "1        2.571429              18    3.581601  \n",
       "2        4.333333              13    3.660743  \n",
       "3        4.750000              19    3.061159  \n",
       "4        3.961538             103    3.262348  "
      ]
     },
     "execution_count": 4,
     "metadata": {},
     "output_type": "execute_result"
    }
   ],
   "source": [
    "df.head()"
   ]
  },
  {
   "cell_type": "code",
   "execution_count": 5,
   "metadata": {},
   "outputs": [
    {
     "data": {
      "image/png": "[encoded data removed]",
      "text/plain": [
       "<Figure size 432x288 with 1 Axes>"
      ]
     },
     "metadata": {
      "needs_background": "light"
     },
     "output_type": "display_data"
    }
   ],
   "source": [
    "timeline_root = df.groupby(['EventRootCode', 'Year']).SumEvents.sum()\n",
    "\n",
    "for root, label in zip((17, 18, 19), ('Coerce', 'Assault', 'Fight')):\n",
    "    plt.plot(timeline_root.loc[root], label=label)\n",
    "\n",
    "plt.legend();"
   ]
  },
  {
   "cell_type": "code",
   "execution_count": 6,
   "metadata": {},
   "outputs": [
    {
     "data": {
      "image/png": "[encoded data removed]",
      "text/plain": [
       "<Figure size 432x288 with 1 Axes>"
      ]
     },
     "metadata": {
      "needs_background": "light"
     },
     "output_type": "display_data"
    }
   ],
   "source": [
    "timeline_root_norm = df.groupby(['EventRootCode', 'Year']).NormalizedEvents1000\t.sum()\n",
    "\n",
    "for root, label in zip((17, 18, 19), ('Coerce', 'Assault', 'Fight')):\n",
    "    plt.plot(timeline_root_norm.loc[root], label=label)\n",
    "\n",
    "plt.legend();"
   ]
  },
  {
   "cell_type": "code",
   "execution_count": 7,
   "metadata": {},
   "outputs": [],
   "source": [
    "df['goldstein_weight'] = df['GoldsteinScale'] * -1 / 10"
   ]
  },
  {
   "cell_type": "code",
   "execution_count": 8,
   "metadata": {},
   "outputs": [
    {
     "data": {
      "text/plain": [
       "83544211"
      ]
     },
     "execution_count": 8,
     "metadata": {},
     "output_type": "execute_result"
    }
   ],
   "source": [
    "df.SumEvents.sum()"
   ]
  },
  {
   "cell_type": "code",
   "execution_count": 9,
   "metadata": {},
   "outputs": [
    {
     "data": {
      "text/plain": [
       "array(['Arrest, detain, or charge with legal action ', 'Assassinate ',\n",
       "       'Conduct suicide, car, or other non-military bombing, not spec below',\n",
       "       'Use conventional military force, not specified below',\n",
       "       'Occupy territory', 'Torture',\n",
       "       'Physically assault, not specified below',\n",
       "       'Fight with artillery and tanks',\n",
       "       'Use unconventional violence, not specified below',\n",
       "       'Seize or damage property, not specified below', 'Impose curfew',\n",
       "       'Impose blockade, restrict movement ',\n",
       "       'Expel or deport individuals', 'Confiscate property',\n",
       "       'Abduct, hijack, or take hostage ', 'Carry out car bombing',\n",
       "       'Impose administrative sanctions, not specified below',\n",
       "       'Employ aerial weapons', 'Sexually assault',\n",
       "       'Fight with small arms and light weapons',\n",
       "       'Impose restrictions on political freedoms  ',\n",
       "       'Violate ceasefire ', 'Destroy property',\n",
       "       'Coerce, not specified below ',\n",
       "       'Use tactics of violent repression  ',\n",
       "       'Ban political parties or politicians', 'Attempt to assassinate',\n",
       "       'Kill by physical assault',\n",
       "       'Impose state of emergency or martial law',\n",
       "       'Carry out suicide bombing', 'Carry out roadside bombing ',\n",
       "       'Use as human shield '], dtype=object)"
      ]
     },
     "execution_count": 9,
     "metadata": {},
     "output_type": "execute_result"
    }
   ],
   "source": [
    "df.EventDescr.unique()"
   ]
  },
  {
   "cell_type": "code",
   "execution_count": 10,
   "metadata": {},
   "outputs": [
    {
     "data": {
      "text/plain": [
       "32"
      ]
     },
     "execution_count": 10,
     "metadata": {},
     "output_type": "execute_result"
    }
   ],
   "source": [
    "len(df.EventDescr.unique())"
   ]
  },
  {
   "cell_type": "code",
   "execution_count": 12,
   "metadata": {},
   "outputs": [
    {
     "data": {
      "text/plain": [
       "array(['COERCE', 'ASSAULT', 'FIGHT'], dtype=object)"
      ]
     },
     "execution_count": 12,
     "metadata": {},
     "output_type": "execute_result"
    }
   ],
   "source": [
    "df.EventRootDescr.unique()"
   ]
  },
  {
   "cell_type": "code",
   "execution_count": 14,
   "metadata": {},
   "outputs": [
    {
     "name": "stdout",
     "output_type": "stream",
     "text": [
      "Year CountryCode CountryName SumEvents TotalEvents NormalizedEvents1000 EventRootCode EventRootDescr EventCode EventDescr GoldsteinScale AvgNumMentions SumNumMentions AvgAvgTone goldstein_weight \n",
      "\n"
     ]
    }
   ],
   "source": [
    "print(*list(df.columns), '\\n')"
   ]
  },
  {
   "cell_type": "code",
   "execution_count": null,
   "metadata": {},
   "outputs": [],
   "source": []
  }
 ],
 "metadata": {
  "kernelspec": {
   "display_name": "Python 3",
   "language": "python",
   "name": "python3"
  },
  "language_info": {
   "codemirror_mode": {
    "name": "ipython",
    "version": 3
   },
   "file_extension": ".py",
   "mimetype": "text/x-python",
   "name": "python",
   "nbconvert_exporter": "python",
   "pygments_lexer": "ipython3",
   "version": "3.8.6"
  }
 },
 "nbformat": 4,
 "nbformat_minor": 4
}
