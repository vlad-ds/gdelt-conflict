{
 "cells": [
  {
   "cell_type": "markdown",
   "metadata": {},
   "source": [
    "# Analysis of GDELT violence data"
   ]
  },
  {
   "cell_type": "markdown",
   "metadata": {},
   "source": [
    "## Query"
   ]
  },
  {
   "cell_type": "markdown",
   "metadata": {},
   "source": [
    "```sql\n",
    "SELECT Year, \n",
    "\t   ActionGeo_CountryCode AS CountryCode,\n",
    "\t   EventRootCode,\n",
    "\t   EventCode,\n",
    "\t   COUNT(GLOBALEVENTID) AS SumEvents,\n",
    "\t   ANY_VALUE(GoldsteinScale) AS GoldsteinScale,\n",
    "\t   AVG(NumMentions) as AvgNumMentions,\n",
    "\t   SUM(NumMentions) as SumNumMentions,\n",
    "\t   AVG(AvgTone) as AvgAvgTone,\n",
    "FROM `gdelt-bq.full.events`\n",
    "WHERE \n",
    "\tEventRootCode IN (\"17\", \"18\", \"19\") \n",
    "\tAND Year >= 1979\n",
    "GROUP BY Year, ActionGeo_CountryCode, EventRootCode, EventCode\n",
    "ORDER BY Year\n",
    "```"
   ]
  },
  {
   "cell_type": "code",
   "execution_count": 1,
   "metadata": {},
   "outputs": [],
   "source": [
    "import pandas as pd\n",
    "import numpy as np"
   ]
  },
  {
   "cell_type": "markdown",
   "metadata": {},
   "source": [
    "### Get CAMEO event codes. "
   ]
  },
  {
   "cell_type": "code",
   "execution_count": 2,
   "metadata": {},
   "outputs": [
    {
     "name": "stdout",
     "output_type": "stream",
     "text": [
      "  % Total    % Received % Xferd  Average Speed   Time    Time     Time  Current\n",
      "                                 Dload  Upload   Total   Spent    Left  Speed\n",
      "100 12157  100 12157    0     0  13257      0 --:--:-- --:--:-- --:--:-- 13242\n"
     ]
    }
   ],
   "source": [
    "!curl -o data/CAMEO_codes.txt https://www.gdeltproject.org/data/lookups/CAMEO.eventcodes.txt "
   ]
  },
  {
   "cell_type": "code",
   "execution_count": 3,
   "metadata": {},
   "outputs": [
    {
     "data": {
      "text/html": [
       "<div>\n",
       "<style scoped>\n",
       "    .dataframe tbody tr th:only-of-type {\n",
       "        vertical-align: middle;\n",
       "    }\n",
       "\n",
       "    .dataframe tbody tr th {\n",
       "        vertical-align: top;\n",
       "    }\n",
       "\n",
       "    .dataframe thead th {\n",
       "        text-align: right;\n",
       "    }\n",
       "</style>\n",
       "<table border=\"1\" class=\"dataframe\">\n",
       "  <thead>\n",
       "    <tr style=\"text-align: right;\">\n",
       "      <th></th>\n",
       "      <th>code</th>\n",
       "      <th>descr</th>\n",
       "    </tr>\n",
       "  </thead>\n",
       "  <tbody>\n",
       "    <tr>\n",
       "      <th>0</th>\n",
       "      <td>01</td>\n",
       "      <td>MAKE PUBLIC STATEMENT</td>\n",
       "    </tr>\n",
       "    <tr>\n",
       "      <th>1</th>\n",
       "      <td>010</td>\n",
       "      <td>Make statement, not specified below</td>\n",
       "    </tr>\n",
       "    <tr>\n",
       "      <th>2</th>\n",
       "      <td>011</td>\n",
       "      <td>Decline comment</td>\n",
       "    </tr>\n",
       "    <tr>\n",
       "      <th>3</th>\n",
       "      <td>012</td>\n",
       "      <td>Make pessimistic comment</td>\n",
       "    </tr>\n",
       "    <tr>\n",
       "      <th>4</th>\n",
       "      <td>013</td>\n",
       "      <td>Make optimistic comment</td>\n",
       "    </tr>\n",
       "  </tbody>\n",
       "</table>\n",
       "</div>"
      ],
      "text/plain": [
       "  code                                descr\n",
       "0   01                MAKE PUBLIC STATEMENT\n",
       "1  010  Make statement, not specified below\n",
       "2  011                      Decline comment\n",
       "3  012             Make pessimistic comment\n",
       "4  013              Make optimistic comment"
      ]
     },
     "execution_count": 3,
     "metadata": {},
     "output_type": "execute_result"
    }
   ],
   "source": [
    "cameo_codes = pd.read_csv('data/CAMEO_codes.txt', sep='\\t', \n",
    "                          names=['code', 'descr'], skiprows=1,\n",
    "                         dtype=str)\n",
    "\n",
    "cameo_codes['code'] = cameo_codes['code'].astype(str)\n",
    "\n",
    "cameo_codes.head()"
   ]
  },
  {
   "cell_type": "markdown",
   "metadata": {},
   "source": [
    "### Load query data. "
   ]
  },
  {
   "cell_type": "code",
   "execution_count": 4,
   "metadata": {},
   "outputs": [
    {
     "data": {
      "text/plain": [
       "(171710, 9)"
      ]
     },
     "execution_count": 4,
     "metadata": {},
     "output_type": "execute_result"
    }
   ],
   "source": [
    "data = pd.read_csv('data/query.csv')\n",
    "data['EventCode'] = data['EventCode'].astype(str)\n",
    "data['EventRootCode'] = data['EventRootCode'].astype(str)\n",
    "\n",
    "if 'f0_' in data.columns:\n",
    "    data.rename({'f0_': 'GoldsteinScale'},\n",
    "                axis=1, inplace=True)\n",
    "\n",
    "data.shape"
   ]
  },
  {
   "cell_type": "code",
   "execution_count": 5,
   "metadata": {},
   "outputs": [
    {
     "data": {
      "text/html": [
       "<div>\n",
       "<style scoped>\n",
       "    .dataframe tbody tr th:only-of-type {\n",
       "        vertical-align: middle;\n",
       "    }\n",
       "\n",
       "    .dataframe tbody tr th {\n",
       "        vertical-align: top;\n",
       "    }\n",
       "\n",
       "    .dataframe thead th {\n",
       "        text-align: right;\n",
       "    }\n",
       "</style>\n",
       "<table border=\"1\" class=\"dataframe\">\n",
       "  <thead>\n",
       "    <tr style=\"text-align: right;\">\n",
       "      <th></th>\n",
       "      <th>Year</th>\n",
       "      <th>CountryCode</th>\n",
       "      <th>EventRootCode</th>\n",
       "      <th>EventCode</th>\n",
       "      <th>SumEvents</th>\n",
       "      <th>GoldsteinScale</th>\n",
       "      <th>AvgNumMentions</th>\n",
       "      <th>SumNumMentions</th>\n",
       "      <th>AvgAvgTone</th>\n",
       "    </tr>\n",
       "  </thead>\n",
       "  <tbody>\n",
       "    <tr>\n",
       "      <th>0</th>\n",
       "      <td>1979</td>\n",
       "      <td>AR</td>\n",
       "      <td>17</td>\n",
       "      <td>173</td>\n",
       "      <td>57</td>\n",
       "      <td>-5.0</td>\n",
       "      <td>3.754386</td>\n",
       "      <td>214</td>\n",
       "      <td>4.962598</td>\n",
       "    </tr>\n",
       "    <tr>\n",
       "      <th>1</th>\n",
       "      <td>1979</td>\n",
       "      <td>SA</td>\n",
       "      <td>18</td>\n",
       "      <td>186</td>\n",
       "      <td>7</td>\n",
       "      <td>-10.0</td>\n",
       "      <td>2.571429</td>\n",
       "      <td>18</td>\n",
       "      <td>3.581601</td>\n",
       "    </tr>\n",
       "    <tr>\n",
       "      <th>2</th>\n",
       "      <td>1979</td>\n",
       "      <td>ET</td>\n",
       "      <td>18</td>\n",
       "      <td>183</td>\n",
       "      <td>3</td>\n",
       "      <td>-10.0</td>\n",
       "      <td>4.333333</td>\n",
       "      <td>13</td>\n",
       "      <td>3.660743</td>\n",
       "    </tr>\n",
       "    <tr>\n",
       "      <th>3</th>\n",
       "      <td>1979</td>\n",
       "      <td>RQ</td>\n",
       "      <td>19</td>\n",
       "      <td>190</td>\n",
       "      <td>4</td>\n",
       "      <td>-10.0</td>\n",
       "      <td>4.750000</td>\n",
       "      <td>19</td>\n",
       "      <td>3.061159</td>\n",
       "    </tr>\n",
       "    <tr>\n",
       "      <th>4</th>\n",
       "      <td>1979</td>\n",
       "      <td>ID</td>\n",
       "      <td>19</td>\n",
       "      <td>190</td>\n",
       "      <td>26</td>\n",
       "      <td>-10.0</td>\n",
       "      <td>3.961538</td>\n",
       "      <td>103</td>\n",
       "      <td>3.262348</td>\n",
       "    </tr>\n",
       "  </tbody>\n",
       "</table>\n",
       "</div>"
      ],
      "text/plain": [
       "   Year CountryCode EventRootCode EventCode  SumEvents  GoldsteinScale  \\\n",
       "0  1979          AR            17       173         57            -5.0   \n",
       "1  1979          SA            18       186          7           -10.0   \n",
       "2  1979          ET            18       183          3           -10.0   \n",
       "3  1979          RQ            19       190          4           -10.0   \n",
       "4  1979          ID            19       190         26           -10.0   \n",
       "\n",
       "   AvgNumMentions  SumNumMentions  AvgAvgTone  \n",
       "0        3.754386             214    4.962598  \n",
       "1        2.571429              18    3.581601  \n",
       "2        4.333333              13    3.660743  \n",
       "3        4.750000              19    3.061159  \n",
       "4        3.961538             103    3.262348  "
      ]
     },
     "execution_count": 5,
     "metadata": {},
     "output_type": "execute_result"
    }
   ],
   "source": [
    "data.head()"
   ]
  },
  {
   "cell_type": "markdown",
   "metadata": {},
   "source": [
    "### Merge event and event root description. "
   ]
  },
  {
   "cell_type": "code",
   "execution_count": 6,
   "metadata": {},
   "outputs": [],
   "source": [
    "data = data.merge(cameo_codes, left_on='EventCode', right_on='code', how='left')\n",
    "data = data.merge(cameo_codes, left_on='EventRootCode', right_on='code', how='left')\n",
    "\n",
    "data.drop(['code_x', 'code_y'], axis=1, inplace=True)\n",
    "\n",
    "data.rename({'descr_x': 'EventDescr',\n",
    "             'descr_y': 'EventRootDescr'},\n",
    "            axis=1, inplace=True)"
   ]
  },
  {
   "cell_type": "code",
   "execution_count": 7,
   "metadata": {},
   "outputs": [
    {
     "data": {
      "text/html": [
       "<div>\n",
       "<style scoped>\n",
       "    .dataframe tbody tr th:only-of-type {\n",
       "        vertical-align: middle;\n",
       "    }\n",
       "\n",
       "    .dataframe tbody tr th {\n",
       "        vertical-align: top;\n",
       "    }\n",
       "\n",
       "    .dataframe thead th {\n",
       "        text-align: right;\n",
       "    }\n",
       "</style>\n",
       "<table border=\"1\" class=\"dataframe\">\n",
       "  <thead>\n",
       "    <tr style=\"text-align: right;\">\n",
       "      <th></th>\n",
       "      <th>Year</th>\n",
       "      <th>CountryCode</th>\n",
       "      <th>EventRootCode</th>\n",
       "      <th>EventCode</th>\n",
       "      <th>SumEvents</th>\n",
       "      <th>GoldsteinScale</th>\n",
       "      <th>AvgNumMentions</th>\n",
       "      <th>SumNumMentions</th>\n",
       "      <th>AvgAvgTone</th>\n",
       "      <th>EventDescr</th>\n",
       "      <th>EventRootDescr</th>\n",
       "    </tr>\n",
       "  </thead>\n",
       "  <tbody>\n",
       "    <tr>\n",
       "      <th>0</th>\n",
       "      <td>1979</td>\n",
       "      <td>AR</td>\n",
       "      <td>17</td>\n",
       "      <td>173</td>\n",
       "      <td>57</td>\n",
       "      <td>-5.0</td>\n",
       "      <td>3.754386</td>\n",
       "      <td>214</td>\n",
       "      <td>4.962598</td>\n",
       "      <td>Arrest, detain, or charge with legal action</td>\n",
       "      <td>COERCE</td>\n",
       "    </tr>\n",
       "    <tr>\n",
       "      <th>1</th>\n",
       "      <td>1979</td>\n",
       "      <td>SA</td>\n",
       "      <td>18</td>\n",
       "      <td>186</td>\n",
       "      <td>7</td>\n",
       "      <td>-10.0</td>\n",
       "      <td>2.571429</td>\n",
       "      <td>18</td>\n",
       "      <td>3.581601</td>\n",
       "      <td>Assassinate</td>\n",
       "      <td>ASSAULT</td>\n",
       "    </tr>\n",
       "    <tr>\n",
       "      <th>2</th>\n",
       "      <td>1979</td>\n",
       "      <td>ET</td>\n",
       "      <td>18</td>\n",
       "      <td>183</td>\n",
       "      <td>3</td>\n",
       "      <td>-10.0</td>\n",
       "      <td>4.333333</td>\n",
       "      <td>13</td>\n",
       "      <td>3.660743</td>\n",
       "      <td>Conduct suicide, car, or other non-military bo...</td>\n",
       "      <td>ASSAULT</td>\n",
       "    </tr>\n",
       "    <tr>\n",
       "      <th>3</th>\n",
       "      <td>1979</td>\n",
       "      <td>RQ</td>\n",
       "      <td>19</td>\n",
       "      <td>190</td>\n",
       "      <td>4</td>\n",
       "      <td>-10.0</td>\n",
       "      <td>4.750000</td>\n",
       "      <td>19</td>\n",
       "      <td>3.061159</td>\n",
       "      <td>Use conventional military force, not specified...</td>\n",
       "      <td>FIGHT</td>\n",
       "    </tr>\n",
       "    <tr>\n",
       "      <th>4</th>\n",
       "      <td>1979</td>\n",
       "      <td>ID</td>\n",
       "      <td>19</td>\n",
       "      <td>190</td>\n",
       "      <td>26</td>\n",
       "      <td>-10.0</td>\n",
       "      <td>3.961538</td>\n",
       "      <td>103</td>\n",
       "      <td>3.262348</td>\n",
       "      <td>Use conventional military force, not specified...</td>\n",
       "      <td>FIGHT</td>\n",
       "    </tr>\n",
       "  </tbody>\n",
       "</table>\n",
       "</div>"
      ],
      "text/plain": [
       "   Year CountryCode EventRootCode EventCode  SumEvents  GoldsteinScale  \\\n",
       "0  1979          AR            17       173         57            -5.0   \n",
       "1  1979          SA            18       186          7           -10.0   \n",
       "2  1979          ET            18       183          3           -10.0   \n",
       "3  1979          RQ            19       190          4           -10.0   \n",
       "4  1979          ID            19       190         26           -10.0   \n",
       "\n",
       "   AvgNumMentions  SumNumMentions  AvgAvgTone  \\\n",
       "0        3.754386             214    4.962598   \n",
       "1        2.571429              18    3.581601   \n",
       "2        4.333333              13    3.660743   \n",
       "3        4.750000              19    3.061159   \n",
       "4        3.961538             103    3.262348   \n",
       "\n",
       "                                          EventDescr EventRootDescr  \n",
       "0       Arrest, detain, or charge with legal action          COERCE  \n",
       "1                                       Assassinate         ASSAULT  \n",
       "2  Conduct suicide, car, or other non-military bo...        ASSAULT  \n",
       "3  Use conventional military force, not specified...          FIGHT  \n",
       "4  Use conventional military force, not specified...          FIGHT  "
      ]
     },
     "execution_count": 7,
     "metadata": {},
     "output_type": "execute_result"
    }
   ],
   "source": [
    "data.head()"
   ]
  },
  {
   "cell_type": "markdown",
   "metadata": {},
   "source": [
    "### Some countries are NULL. "
   ]
  },
  {
   "cell_type": "code",
   "execution_count": 8,
   "metadata": {},
   "outputs": [
    {
     "data": {
      "text/plain": [
       "Year                 0\n",
       "CountryCode       1291\n",
       "EventRootCode        0\n",
       "EventCode            0\n",
       "SumEvents            0\n",
       "GoldsteinScale       0\n",
       "AvgNumMentions       0\n",
       "SumNumMentions       0\n",
       "AvgAvgTone           0\n",
       "EventDescr           0\n",
       "EventRootDescr       0\n",
       "dtype: int64"
      ]
     },
     "execution_count": 8,
     "metadata": {},
     "output_type": "execute_result"
    }
   ],
   "source": [
    "data.isnull().sum()"
   ]
  },
  {
   "cell_type": "markdown",
   "metadata": {},
   "source": [
    "### Download and merge country names. "
   ]
  },
  {
   "cell_type": "code",
   "execution_count": 9,
   "metadata": {},
   "outputs": [
    {
     "name": "stdout",
     "output_type": "stream",
     "text": [
      "  % Total    % Received % Xferd  Average Speed   Time    Time     Time  Current\n",
      "                                 Dload  Upload   Total   Spent    Left  Speed\n",
      "100  5064  100  5064    0     0  19858      0 --:--:-- --:--:-- --:--:-- 19858\n"
     ]
    }
   ],
   "source": [
    "!curl -o data/country_names.csv https://raw.githubusercontent.com/mysociety/gaze/master/data/fips-10-4-to-iso-country-codes.csv"
   ]
  },
  {
   "cell_type": "code",
   "execution_count": 10,
   "metadata": {},
   "outputs": [
    {
     "data": {
      "text/html": [
       "<div>\n",
       "<style scoped>\n",
       "    .dataframe tbody tr th:only-of-type {\n",
       "        vertical-align: middle;\n",
       "    }\n",
       "\n",
       "    .dataframe tbody tr th {\n",
       "        vertical-align: top;\n",
       "    }\n",
       "\n",
       "    .dataframe thead th {\n",
       "        text-align: right;\n",
       "    }\n",
       "</style>\n",
       "<table border=\"1\" class=\"dataframe\">\n",
       "  <thead>\n",
       "    <tr style=\"text-align: right;\">\n",
       "      <th></th>\n",
       "      <th>CountryCode</th>\n",
       "      <th>CountryName</th>\n",
       "    </tr>\n",
       "  </thead>\n",
       "  <tbody>\n",
       "    <tr>\n",
       "      <th>0</th>\n",
       "      <td>AF</td>\n",
       "      <td>Afghanistan</td>\n",
       "    </tr>\n",
       "    <tr>\n",
       "      <th>1</th>\n",
       "      <td>AX</td>\n",
       "      <td>Akrotiri</td>\n",
       "    </tr>\n",
       "    <tr>\n",
       "      <th>2</th>\n",
       "      <td>AL</td>\n",
       "      <td>Albania</td>\n",
       "    </tr>\n",
       "    <tr>\n",
       "      <th>3</th>\n",
       "      <td>AG</td>\n",
       "      <td>Algeria</td>\n",
       "    </tr>\n",
       "    <tr>\n",
       "      <th>4</th>\n",
       "      <td>AQ</td>\n",
       "      <td>American Samoa</td>\n",
       "    </tr>\n",
       "  </tbody>\n",
       "</table>\n",
       "</div>"
      ],
      "text/plain": [
       "  CountryCode     CountryName\n",
       "0          AF     Afghanistan\n",
       "1          AX        Akrotiri\n",
       "2          AL         Albania\n",
       "3          AG         Algeria\n",
       "4          AQ  American Samoa"
      ]
     },
     "execution_count": 10,
     "metadata": {},
     "output_type": "execute_result"
    }
   ],
   "source": [
    "cn = pd.read_csv('data/country_names.csv')\n",
    "cn = cn.drop('ISO 3166', axis=1)\n",
    "cn.columns = ['CountryCode', 'CountryName']\n",
    "cn.head()"
   ]
  },
  {
   "cell_type": "code",
   "execution_count": 11,
   "metadata": {},
   "outputs": [],
   "source": [
    "data = data.merge(cn, on='CountryCode', how='left')"
   ]
  },
  {
   "cell_type": "markdown",
   "metadata": {},
   "source": [
    "### Downloading and merging total values. "
   ]
  },
  {
   "cell_type": "code",
   "execution_count": 12,
   "metadata": {},
   "outputs": [
    {
     "name": "stdout",
     "output_type": "stream",
     "text": [
      "  % Total    % Received % Xferd  Average Speed   Time    Time     Time  Current\n",
      "                                 Dload  Upload   Total   Spent    Left  Speed\n",
      "100  136k  100  136k    0     0   174k      0 --:--:-- --:--:-- --:--:--  174k\n"
     ]
    }
   ],
   "source": [
    "!curl -o data/yearly_country_totals.csv http://data.gdeltproject.org/normfiles/yearly_country.csv"
   ]
  },
  {
   "cell_type": "code",
   "execution_count": 13,
   "metadata": {},
   "outputs": [
    {
     "data": {
      "text/html": [
       "<div>\n",
       "<style scoped>\n",
       "    .dataframe tbody tr th:only-of-type {\n",
       "        vertical-align: middle;\n",
       "    }\n",
       "\n",
       "    .dataframe tbody tr th {\n",
       "        vertical-align: top;\n",
       "    }\n",
       "\n",
       "    .dataframe thead th {\n",
       "        text-align: right;\n",
       "    }\n",
       "</style>\n",
       "<table border=\"1\" class=\"dataframe\">\n",
       "  <thead>\n",
       "    <tr style=\"text-align: right;\">\n",
       "      <th></th>\n",
       "      <th>Year</th>\n",
       "      <th>CountryCode</th>\n",
       "      <th>TotalEvents</th>\n",
       "    </tr>\n",
       "  </thead>\n",
       "  <tbody>\n",
       "    <tr>\n",
       "      <th>0</th>\n",
       "      <td>1920</td>\n",
       "      <td>NaN</td>\n",
       "      <td>13636</td>\n",
       "    </tr>\n",
       "    <tr>\n",
       "      <th>1</th>\n",
       "      <td>1920</td>\n",
       "      <td>AA</td>\n",
       "      <td>3</td>\n",
       "    </tr>\n",
       "    <tr>\n",
       "      <th>2</th>\n",
       "      <td>1920</td>\n",
       "      <td>AC</td>\n",
       "      <td>63</td>\n",
       "    </tr>\n",
       "    <tr>\n",
       "      <th>3</th>\n",
       "      <td>1920</td>\n",
       "      <td>AE</td>\n",
       "      <td>1585</td>\n",
       "    </tr>\n",
       "    <tr>\n",
       "      <th>4</th>\n",
       "      <td>1920</td>\n",
       "      <td>AF</td>\n",
       "      <td>3523</td>\n",
       "    </tr>\n",
       "  </tbody>\n",
       "</table>\n",
       "</div>"
      ],
      "text/plain": [
       "   Year CountryCode  TotalEvents\n",
       "0  1920         NaN        13636\n",
       "1  1920          AA            3\n",
       "2  1920          AC           63\n",
       "3  1920          AE         1585\n",
       "4  1920          AF         3523"
      ]
     },
     "execution_count": 13,
     "metadata": {},
     "output_type": "execute_result"
    }
   ],
   "source": [
    "totals = pd.read_csv('data/yearly_country_totals.csv', names=['Year', 'CountryCode', 'TotalEvents'])\n",
    "totals.head()"
   ]
  },
  {
   "cell_type": "code",
   "execution_count": 14,
   "metadata": {},
   "outputs": [],
   "source": [
    "data = data.merge(totals, on=['Year', 'CountryCode'], how='left')"
   ]
  },
  {
   "cell_type": "markdown",
   "metadata": {},
   "source": [
    "### Compute normalized events count (over 1000 events). "
   ]
  },
  {
   "cell_type": "code",
   "execution_count": 15,
   "metadata": {},
   "outputs": [],
   "source": [
    "data['NormalizedEvents1000'] = data['SumEvents'] / data['TotalEvents'] * 10**3"
   ]
  },
  {
   "cell_type": "markdown",
   "metadata": {},
   "source": [
    "### Removing rows with NULL values. "
   ]
  },
  {
   "cell_type": "code",
   "execution_count": 16,
   "metadata": {},
   "outputs": [
    {
     "name": "stdout",
     "output_type": "stream",
     "text": [
      "Removed 4641 rows (3.0% of 173011 rows.)\n"
     ]
    }
   ],
   "source": [
    "before = data.shape[0]\n",
    "data = data.dropna()\n",
    "after = data.shape[0]\n",
    "removed = before - after\n",
    "percent_removed = round(removed / before, 2) * 100\n",
    "print(f\"Removed {before - after} rows ({percent_removed}% of {before} rows.)\")"
   ]
  },
  {
   "cell_type": "code",
   "execution_count": 17,
   "metadata": {},
   "outputs": [
    {
     "data": {
      "text/plain": [
       "0"
      ]
     },
     "execution_count": 17,
     "metadata": {},
     "output_type": "execute_result"
    }
   ],
   "source": [
    "data.isnull().sum().sum()"
   ]
  },
  {
   "cell_type": "code",
   "execution_count": 18,
   "metadata": {},
   "outputs": [
    {
     "data": {
      "text/plain": [
       "(168370, 14)"
      ]
     },
     "execution_count": 18,
     "metadata": {},
     "output_type": "execute_result"
    }
   ],
   "source": [
    "data.shape"
   ]
  },
  {
   "cell_type": "markdown",
   "metadata": {},
   "source": [
    "### Reordering columns."
   ]
  },
  {
   "cell_type": "code",
   "execution_count": 19,
   "metadata": {},
   "outputs": [],
   "source": [
    "prev = len(data.columns)\n",
    "data = data[['Year', 'CountryCode', 'CountryName', \n",
    "             'SumEvents', 'TotalEvents', 'NormalizedEvents1000', \n",
    "             'EventRootCode', 'EventRootDescr',\n",
    "             'EventCode', 'EventDescr', \n",
    "             'GoldsteinScale', 'AvgNumMentions', 'SumNumMentions', 'AvgAvgTone'\n",
    "             ]]\n",
    "\n",
    "assert len(data.columns) == prev"
   ]
  },
  {
   "cell_type": "code",
   "execution_count": 20,
   "metadata": {},
   "outputs": [
    {
     "data": {
      "text/html": [
       "<div>\n",
       "<style scoped>\n",
       "    .dataframe tbody tr th:only-of-type {\n",
       "        vertical-align: middle;\n",
       "    }\n",
       "\n",
       "    .dataframe tbody tr th {\n",
       "        vertical-align: top;\n",
       "    }\n",
       "\n",
       "    .dataframe thead th {\n",
       "        text-align: right;\n",
       "    }\n",
       "</style>\n",
       "<table border=\"1\" class=\"dataframe\">\n",
       "  <thead>\n",
       "    <tr style=\"text-align: right;\">\n",
       "      <th></th>\n",
       "      <th>Year</th>\n",
       "      <th>CountryCode</th>\n",
       "      <th>CountryName</th>\n",
       "      <th>SumEvents</th>\n",
       "      <th>TotalEvents</th>\n",
       "      <th>NormalizedEvents1000</th>\n",
       "      <th>EventRootCode</th>\n",
       "      <th>EventRootDescr</th>\n",
       "      <th>EventCode</th>\n",
       "      <th>EventDescr</th>\n",
       "      <th>GoldsteinScale</th>\n",
       "      <th>AvgNumMentions</th>\n",
       "      <th>SumNumMentions</th>\n",
       "      <th>AvgAvgTone</th>\n",
       "    </tr>\n",
       "  </thead>\n",
       "  <tbody>\n",
       "    <tr>\n",
       "      <th>0</th>\n",
       "      <td>1979</td>\n",
       "      <td>AR</td>\n",
       "      <td>Argentina</td>\n",
       "      <td>57</td>\n",
       "      <td>948</td>\n",
       "      <td>60.126582</td>\n",
       "      <td>17</td>\n",
       "      <td>COERCE</td>\n",
       "      <td>173</td>\n",
       "      <td>Arrest, detain, or charge with legal action</td>\n",
       "      <td>-5.0</td>\n",
       "      <td>3.754386</td>\n",
       "      <td>214</td>\n",
       "      <td>4.962598</td>\n",
       "    </tr>\n",
       "    <tr>\n",
       "      <th>1</th>\n",
       "      <td>1979</td>\n",
       "      <td>SA</td>\n",
       "      <td>Saudi Arabia</td>\n",
       "      <td>7</td>\n",
       "      <td>2691</td>\n",
       "      <td>2.601263</td>\n",
       "      <td>18</td>\n",
       "      <td>ASSAULT</td>\n",
       "      <td>186</td>\n",
       "      <td>Assassinate</td>\n",
       "      <td>-10.0</td>\n",
       "      <td>2.571429</td>\n",
       "      <td>18</td>\n",
       "      <td>3.581601</td>\n",
       "    </tr>\n",
       "    <tr>\n",
       "      <th>2</th>\n",
       "      <td>1979</td>\n",
       "      <td>ET</td>\n",
       "      <td>Ethiopia</td>\n",
       "      <td>3</td>\n",
       "      <td>1374</td>\n",
       "      <td>2.183406</td>\n",
       "      <td>18</td>\n",
       "      <td>ASSAULT</td>\n",
       "      <td>183</td>\n",
       "      <td>Conduct suicide, car, or other non-military bo...</td>\n",
       "      <td>-10.0</td>\n",
       "      <td>4.333333</td>\n",
       "      <td>13</td>\n",
       "      <td>3.660743</td>\n",
       "    </tr>\n",
       "    <tr>\n",
       "      <th>3</th>\n",
       "      <td>1979</td>\n",
       "      <td>RQ</td>\n",
       "      <td>Puerto Rico</td>\n",
       "      <td>4</td>\n",
       "      <td>170</td>\n",
       "      <td>23.529412</td>\n",
       "      <td>19</td>\n",
       "      <td>FIGHT</td>\n",
       "      <td>190</td>\n",
       "      <td>Use conventional military force, not specified...</td>\n",
       "      <td>-10.0</td>\n",
       "      <td>4.750000</td>\n",
       "      <td>19</td>\n",
       "      <td>3.061159</td>\n",
       "    </tr>\n",
       "    <tr>\n",
       "      <th>4</th>\n",
       "      <td>1979</td>\n",
       "      <td>ID</td>\n",
       "      <td>Indonesia</td>\n",
       "      <td>26</td>\n",
       "      <td>1793</td>\n",
       "      <td>14.500837</td>\n",
       "      <td>19</td>\n",
       "      <td>FIGHT</td>\n",
       "      <td>190</td>\n",
       "      <td>Use conventional military force, not specified...</td>\n",
       "      <td>-10.0</td>\n",
       "      <td>3.961538</td>\n",
       "      <td>103</td>\n",
       "      <td>3.262348</td>\n",
       "    </tr>\n",
       "  </tbody>\n",
       "</table>\n",
       "</div>"
      ],
      "text/plain": [
       "   Year CountryCode   CountryName  SumEvents  TotalEvents  \\\n",
       "0  1979          AR     Argentina         57          948   \n",
       "1  1979          SA  Saudi Arabia          7         2691   \n",
       "2  1979          ET      Ethiopia          3         1374   \n",
       "3  1979          RQ   Puerto Rico          4          170   \n",
       "4  1979          ID     Indonesia         26         1793   \n",
       "\n",
       "   NormalizedEvents1000 EventRootCode EventRootDescr EventCode  \\\n",
       "0             60.126582            17         COERCE       173   \n",
       "1              2.601263            18        ASSAULT       186   \n",
       "2              2.183406            18        ASSAULT       183   \n",
       "3             23.529412            19          FIGHT       190   \n",
       "4             14.500837            19          FIGHT       190   \n",
       "\n",
       "                                          EventDescr  GoldsteinScale  \\\n",
       "0       Arrest, detain, or charge with legal action             -5.0   \n",
       "1                                       Assassinate            -10.0   \n",
       "2  Conduct suicide, car, or other non-military bo...           -10.0   \n",
       "3  Use conventional military force, not specified...           -10.0   \n",
       "4  Use conventional military force, not specified...           -10.0   \n",
       "\n",
       "   AvgNumMentions  SumNumMentions  AvgAvgTone  \n",
       "0        3.754386             214    4.962598  \n",
       "1        2.571429              18    3.581601  \n",
       "2        4.333333              13    3.660743  \n",
       "3        4.750000              19    3.061159  \n",
       "4        3.961538             103    3.262348  "
      ]
     },
     "execution_count": 20,
     "metadata": {},
     "output_type": "execute_result"
    }
   ],
   "source": [
    "data.head()"
   ]
  },
  {
   "cell_type": "code",
   "execution_count": 21,
   "metadata": {},
   "outputs": [
    {
     "data": {
      "text/plain": [
       "0"
      ]
     },
     "execution_count": 21,
     "metadata": {},
     "output_type": "execute_result"
    }
   ],
   "source": [
    "data.isna().sum().sum()"
   ]
  },
  {
   "cell_type": "markdown",
   "metadata": {},
   "source": [
    "## Export"
   ]
  },
  {
   "cell_type": "code",
   "execution_count": 22,
   "metadata": {},
   "outputs": [],
   "source": [
    "data.to_csv('gdelt_conflict/gdelt_conflict_10.csv', index=None)"
   ]
  },
  {
   "cell_type": "code",
   "execution_count": null,
   "metadata": {},
   "outputs": [],
   "source": []
  }
 ],
 "metadata": {
  "kernelspec": {
   "display_name": "Python 3",
   "language": "python",
   "name": "python3"
  },
  "language_info": {
   "codemirror_mode": {
    "name": "ipython",
    "version": 3
   },
   "file_extension": ".py",
   "mimetype": "text/x-python",
   "name": "python",
   "nbconvert_exporter": "python",
   "pygments_lexer": "ipython3",
   "version": "3.8.6"
  }
 },
 "nbformat": 4,
 "nbformat_minor": 4
}
